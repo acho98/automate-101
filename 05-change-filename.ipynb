{
 "cells": [
  {
   "cell_type": "markdown",
   "metadata": {},
   "source": [
    "# 업무자동화를 위한 파이썬 입문 CAMP #10-05\n",
    "\n",
    "\n",
    "> 주제 : mp3 파일에 저장되어 있는 태그를 바탕으로 파일 이름을 일괄적으로 변경하기"
   ]
  },
  {
   "cell_type": "markdown",
   "metadata": {},
   "source": [
    "## Prerequisite\n",
    "\n",
    "#### Python Packages\n",
    "\n",
    "```\n",
    "$ pip install mutagen\n",
    "```"
   ]
  },
  {
   "cell_type": "code",
   "execution_count": null,
   "metadata": {
    "collapsed": false
   },
   "outputs": [],
   "source": [
    "# 이 부분은 제가 강의자료의 실습 데이터를 만들기 위해서 사용한 스크립트입니다.\n",
    "# 수업 시간에는 이 부분에 대해서 다루고 넘어가지는 않습니다.\n",
    "\n",
    "\"\"\"\n",
    "import os\n",
    "import string\n",
    "import shutil\n",
    "import random\n",
    "\n",
    "\n",
    "# 기존에 다운로드한 원본 MP3 파일 목록 가져오기\n",
    "mp3_files = [\n",
    "    filename\n",
    "    for filename \n",
    "    in os.listdir(\"sample_mp3_original\")\n",
    "    if \".mp3\" in filename\n",
    "]\n",
    "\n",
    "\n",
    "# 기존의 sample_mp3 폴더 삭제하기\n",
    "if os.path.exists(\"sample_mp3\"):\n",
    "    shutil.rmtree('sample_mp3')\n",
    "\n",
    "\n",
    "# sample_mp3 라는 새로운 폴더 생성하기\n",
    "os.makedirs(\"sample_mp3\")\n",
    "\n",
    "    \n",
    "# sample_mp3 라는 새로운 폴더에 이상한 이름으로 새로운 mp3 파일들 생성하기\n",
    "for mp3_file in mp3_files:\n",
    "    random_filename = ''.join(random.choice(string.ascii_uppercase + string.digits) for _ in range(8)) + \".mp3\"\n",
    "    shutil.copy2(\n",
    "        \"sample_mp3_original/\" + mp3_file,\n",
    "        \"sample_mp3/\" + random_filename,\n",
    "    )\n",
    "\n",
    "# sample_mp3.zip 으로 압축하기\n",
    "shutil.make_archive(\"sample_mp3\", 'zip', \"sample_mp3\")\n",
    "\n",
    "\n",
    "# sample_mp3 폴더 삭제하기\n",
    "shutil.rmtree(\"sample_mp3\")\n",
    "\"\"\""
   ]
  },
  {
   "cell_type": "code",
   "execution_count": null,
   "metadata": {
    "collapsed": true
   },
   "outputs": [],
   "source": [
    "import os\n",
    "import shutil\n",
    "\n",
    "# 파이썬에서 mp3와 관련된 모듈은 굉장히 많습니다.\n",
    "# 이러한 경우에는 직접 검색해서 어떤 모듈을 이용해야 가장 생산성 높게 작업할 수 있을지 고민해보아야 합니다.\n",
    "from mutagen.mp3 import MP3"
   ]
  },
  {
   "cell_type": "code",
   "execution_count": null,
   "metadata": {
    "collapsed": false
   },
   "outputs": [],
   "source": [
    "# \"sample_mp3\" 라는 폴더에다 \"sample_mp3.zip\"의 압축파일을 푼다.\n",
    "\n",
    "shutil.unpack_archive(\"sample_mp3.zip\", \"sample_mp3\", \"zip\")"
   ]
  },
  {
   "cell_type": "code",
   "execution_count": null,
   "metadata": {
    "collapsed": false
   },
   "outputs": [],
   "source": [
    "# 새로운 mp3 파일들을 저장할 폴더를 생성한다.\n",
    "# 만약에 이미 존재하면, 삭제하고 새롭게 폴더를 생성한다.\n",
    "\n",
    "if os.path.exists(\"sample_mp3_processed\"):\n",
    "    shutil.rmtree('sample_mp3_processed')\n",
    "os.makedirs(\"sample_mp3_processed\")"
   ]
  },
  {
   "cell_type": "code",
   "execution_count": null,
   "metadata": {
    "collapsed": true
   },
   "outputs": [],
   "source": [
    "# \"sample_mp3\" 라는 폴더 안에 들어있는 각각의 mp3 파일들에 대해서, \n",
    "# 제목, 가수명을 추출한다.\n",
    "\n",
    "for mp3_filename in os.listdir(\"sample_mp3\"):\n",
    "    mp3 = MP3(\"sample_mp3/\" + mp3_filename)\n",
    "    \n",
    "    title = mp3.get(\"TIT2\").text[0]\n",
    "    artist = mp3.get(\"TPE1\").text[0]\n",
    "    \n",
    "    new_filename = \"{artist} - {title}.mp3\".format(\n",
    "        artist=artist,\n",
    "        title=title,\n",
    "    )\n",
    "    \n",
    "    # 이름 바꾸기\n",
    "    shutil.copy2(\n",
    "        \"sample_mp3/\" + mp3_filename,\n",
    "        \"sample_mp3_processed/\" + new_filename, \n",
    "    )"
   ]
  },
  {
   "cell_type": "code",
   "execution_count": null,
   "metadata": {
    "collapsed": true
   },
   "outputs": [],
   "source": []
  }
 ],
 "metadata": {
  "kernelspec": {
   "display_name": "Python 3",
   "language": "python",
   "name": "python3"
  },
  "language_info": {
   "codemirror_mode": {
    "name": "ipython",
    "version": 3
   },
   "file_extension": ".py",
   "mimetype": "text/x-python",
   "name": "python",
   "nbconvert_exporter": "python",
   "pygments_lexer": "ipython3",
   "version": "3.5.1"
  }
 },
 "nbformat": 4,
 "nbformat_minor": 0
}
