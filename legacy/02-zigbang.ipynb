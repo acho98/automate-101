{
 "cells": [
  {
   "cell_type": "markdown",
   "metadata": {},
   "source": [
    "# 업무자동화를 위한 파이썬 입문 CAMP #10-02\n",
    "\n",
    "\n",
    "> 주제 : 직방에서 매물 리스트 가져오기"
   ]
  },
  {
   "cell_type": "markdown",
   "metadata": {},
   "source": [
    "## Prerequisite\n",
    "\n",
    "\n",
    "#### Firefox\n",
    "\n",
    "웹 브라우저 자동화 실습을 위해서 [Firefox](https://www.mozilla.org/en-US/firefox/new/) 를 설치하셔야 합니다.\n",
    "다음의 링크에서 설치하실 수 있습니다: https://www.mozilla.org/en-US/firefox/new/\n",
    "\n",
    "#### Python Packages\n",
    "\n",
    "```shell\n",
    "$ pip install selenium\n",
    "```"
   ]
  },
  {
   "cell_type": "code",
   "execution_count": null,
   "metadata": {
    "collapsed": true
   },
   "outputs": [],
   "source": [
    "from selenium import webdriver"
   ]
  },
  {
   "cell_type": "code",
   "execution_count": null,
   "metadata": {
    "collapsed": true
   },
   "outputs": [],
   "source": [
    "driver = webdriver.Firefox()\n",
    "driver.get(\"https://www.zigbang.com/search/map?lat=37.52412796020508&lng=127.02295684814453&zoom=5\")\n",
    "\n",
    "driver.implicitly_wait(30)"
   ]
  },
  {
   "cell_type": "code",
   "execution_count": null,
   "metadata": {
    "collapsed": false
   },
   "outputs": [],
   "source": [
    "room_elements = driver.find_elements_by_css_selector('div#premium-special-map-list div.list-item')\n",
    "\n",
    "for room_element in room_elements:\n",
    "    price = room_element.find_element_by_css_selector('div.i-tit strong').get_attribute('innerHTML')\n",
    "    floor = room_element.find_element_by_css_selector('div.i-tit b').get_attribute('innerHTML')\n",
    "    info = room_element.find_element_by_css_selector('p.i-info').get_attribute('innerHTML')\n",
    "    text = room_element.find_element_by_css_selector('p.i-txt').get_attribute('innerHTML')\n",
    "    print((price, floor, info, text))\n",
    "\n",
    "\n",
    "driver.quit()"
   ]
  },
  {
   "cell_type": "markdown",
   "metadata": {},
   "source": [
    "> 수고하셨습니다. 감사합니다. - 안수찬 올림."
   ]
  }
 ],
 "metadata": {
  "kernelspec": {
   "display_name": "Python 3",
   "language": "python",
   "name": "python3"
  },
  "language_info": {
   "codemirror_mode": {
    "name": "ipython",
    "version": 3
   },
   "file_extension": ".py",
   "mimetype": "text/x-python",
   "name": "python",
   "nbconvert_exporter": "python",
   "pygments_lexer": "ipython3",
   "version": "3.5.1"
  }
 },
 "nbformat": 4,
 "nbformat_minor": 0
}
