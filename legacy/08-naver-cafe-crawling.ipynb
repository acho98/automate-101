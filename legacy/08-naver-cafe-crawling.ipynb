{
 "cells": [
  {
   "cell_type": "markdown",
   "metadata": {},
   "source": [
    "# 업무자동화를 위한 파이썬 입문 CAMP #13-08\n",
    "\n",
    "> 주제 : 네이버 카페 웹 버전을 들어가서 크롤링하기"
   ]
  },
  {
   "cell_type": "markdown",
   "metadata": {},
   "source": [
    "## Prerequisite\n",
    "\n",
    "#### Python Packages\n",
    "\n",
    "```\n",
    "$ pip install selenium\n",
    "```"
   ]
  },
  {
   "cell_type": "code",
   "execution_count": 1,
   "metadata": {
    "collapsed": true
   },
   "outputs": [],
   "source": [
    "import os\n",
    "\n",
    "from selenium import webdriver"
   ]
  },
  {
   "cell_type": "code",
   "execution_count": 2,
   "metadata": {
    "collapsed": false
   },
   "outputs": [],
   "source": [
    "NAVER_USERNAME = os.environ.get(\"NAVER_USERNAME\", \"YOUR_NAVER_USERNAME\")\n",
    "NAVER_PASSWORD = os.environ.get(\"NAVER_PASSWORD\", \"YOUR_NAVER_PASSWORD\")\n",
    "\n",
    "\n",
    "driver = webdriver.Firefox()\n",
    "driver.get(\"https://nid.naver.com/nidlogin.login\")\n",
    "\n",
    "driver.implicitly_wait(10)\n",
    "\n",
    "\n",
    "driver.find_element_by_css_selector('input[name=\"id\"]').send_keys(NAVER_USERNAME)\n",
    "driver.find_element_by_css_selector('input[name=\"pw\"]').send_keys(NAVER_PASSWORD)\n",
    "\n",
    "driver.find_element_by_css_selector('input.int_jogin').click()\n",
    "\n",
    "driver.implicitly_wait(10)"
   ]
  },
  {
   "cell_type": "code",
   "execution_count": 3,
   "metadata": {
    "collapsed": true
   },
   "outputs": [],
   "source": [
    "# 네이버 중고나라 사이트 접속\n",
    "\n",
    "driver.get(\"http://cafe.naver.com/joonggonara\")"
   ]
  },
  {
   "cell_type": "code",
   "execution_count": 4,
   "metadata": {
    "collapsed": false
   },
   "outputs": [],
   "source": [
    "SEARCH_KEYWORD = \"맥북 프로 레티나\"\n",
    "\n",
    "driver.find_element_by_css_selector(\"#topLayerQueryInput\").send_keys(SEARCH_KEYWORD)"
   ]
  },
  {
   "cell_type": "code",
   "execution_count": 5,
   "metadata": {
    "collapsed": false
   },
   "outputs": [],
   "source": [
    "# 크롤링은 쉽게 코드를 짜는 것도 중요하지만\n",
    "# 항상 가장 쉬운 방법 ( 생산성이 높은 방법 ) 을 찾으셔야 합니다.\n",
    "\n",
    "driver.execute_script(\"searchBoard();\")"
   ]
  },
  {
   "cell_type": "code",
   "execution_count": 6,
   "metadata": {
    "collapsed": false
   },
   "outputs": [],
   "source": [
    "# 이렇게 iframe 으로 이루어진 사이트의 경우에는\n",
    "# active_frame 을 변경을 하셔야 합니다.\n",
    "\n",
    "driver.switch_to_frame(driver.find_element_by_css_selector(\"iframe#cafe_main\"))\n",
    "\n",
    "post_elements = driver.find_elements_by_css_selector(\"td.board-list\")"
   ]
  },
  {
   "cell_type": "code",
   "execution_count": 7,
   "metadata": {
    "collapsed": false
   },
   "outputs": [
    {
     "data": {
      "text/plain": [
       "15"
      ]
     },
     "execution_count": 7,
     "metadata": {},
     "output_type": "execute_result"
    }
   ],
   "source": [
    "len(post_elements)"
   ]
  },
  {
   "cell_type": "code",
   "execution_count": 8,
   "metadata": {
    "collapsed": false
   },
   "outputs": [],
   "source": [
    "driver.switch_to_default_content()\n",
    "\n",
    "SEARCH_KEYWORD = \"맥북 프로 다른거\"\n",
    "\n",
    "driver.find_element_by_css_selector(\"#topLayerQueryInput\").send_keys(SEARCH_KEYWORD)"
   ]
  }
 ],
 "metadata": {
  "kernelspec": {
   "display_name": "Python 3",
   "language": "python",
   "name": "python3"
  },
  "language_info": {
   "codemirror_mode": {
    "name": "ipython",
    "version": 3
   },
   "file_extension": ".py",
   "mimetype": "text/x-python",
   "name": "python",
   "nbconvert_exporter": "python",
   "pygments_lexer": "ipython3",
   "version": "3.5.1"
  }
 },
 "nbformat": 4,
 "nbformat_minor": 0
}
