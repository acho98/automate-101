{
 "cells": [
  {
   "cell_type": "markdown",
   "metadata": {},
   "source": [
    "# 업무자동화를 위한 파이썬 입문 CAMP #13-07\n",
    "\n",
    "\n",
    "> 주제 : 화장품 성분 정보 검색 서비스에서 화장품 성분 정보 크롤링하기"
   ]
  },
  {
   "cell_type": "markdown",
   "metadata": {},
   "source": [
    "## Prerequisite\n",
    "\n",
    "#### Python Packages\n",
    "\n",
    "```\n",
    "$ pip install selenium\n",
    "```"
   ]
  },
  {
   "cell_type": "code",
   "execution_count": null,
   "metadata": {
    "collapsed": true
   },
   "outputs": [],
   "source": [
    "from selenium import webdriver"
   ]
  },
  {
   "cell_type": "code",
   "execution_count": null,
   "metadata": {
    "collapsed": true
   },
   "outputs": [],
   "source": [
    "driver = webdriver.Firefox()\n",
    "\n",
    "driver.get(\"http://www.kcia.or.kr/cid/Document/020.Ingredient_shis/INGREDIENT_SHIS_10L.asp\")"
   ]
  },
  {
   "cell_type": "code",
   "execution_count": null,
   "metadata": {
    "collapsed": true
   },
   "outputs": [],
   "source": [
    "for page in range(1, 100):\n",
    "    \n",
    "    # 셀레니움이 강력한 이유는 단순히 파이썬으로 브라우저를 다루는대서 끝나는 것이 아니라,\n",
    "    # 실제로 우리가 웹 브라우저에서 하는 모든 일을 할 수 있도록 만들어줍니다.\n",
    "\n",
    "    driver.execute_script(\"fGoPage({page})\".format(page=page))"
   ]
  }
 ],
 "metadata": {
  "kernelspec": {
   "display_name": "Python 3",
   "language": "python",
   "name": "python3"
  },
  "language_info": {
   "codemirror_mode": {
    "name": "ipython",
    "version": 3
   },
   "file_extension": ".py",
   "mimetype": "text/x-python",
   "name": "python",
   "nbconvert_exporter": "python",
   "pygments_lexer": "ipython3",
   "version": "3.5.1"
  }
 },
 "nbformat": 4,
 "nbformat_minor": 0
}
